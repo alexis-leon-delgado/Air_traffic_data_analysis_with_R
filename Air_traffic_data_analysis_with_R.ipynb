{
  "cells": [
    {
      "cell_type": "markdown",
      "metadata": {
        "id": "view-in-github",
        "colab_type": "text"
      },
      "source": [
        "<a href=\"https://colab.research.google.com/github/alexis-leon-delgado/Air_traffic_data_analysis_with_R/blob/main/Air_traffic_data_analysis_with_R.ipynb\" target=\"_parent\"><img src=\"https://colab.research.google.com/assets/colab-badge.svg\" alt=\"Open In Colab\"/></a>"
      ]
    },
    {
      "cell_type": "markdown",
      "metadata": {
        "id": "v_Lu-pRrZefj"
      },
      "source": [
        "# Definition"
      ]
    },
    {
      "cell_type": "markdown",
      "metadata": {
        "id": "RTEj2qe6libQ"
      },
      "source": [
        "\n",
        "The aim of this work is to manipulate air transport data efficiently. The implemented features are:\n",
        "\n",
        "*   Detect **rerouted flights**. These are those flights where the airport of arrival in the planned route is different from the airport of arrival in the actual route.\n",
        "*   Analyse **delays** and deviations of non-rerouted flights, in distance and time. The **delay** of a flight is equal to the difference between the actual and the planned arrival time, as long as it is positive. If the difference is negative or zero, the delay is zero. The **distance deviation** of a flight is equal to the difference between the actual distance traveled and the planned distance, as long as it is positive. If the difference is negative or zero, the distance deviation is equal to zero. All **average values** of delay and deviation are flight averages.\n",
        "\n",
        "\n",
        "\n"
      ]
    },
    {
      "cell_type": "markdown",
      "metadata": {
        "id": "CtWfQUC4ZjZP"
      },
      "source": [
        "The work deliverable is an R script named `XX_TA.txt`, where `XX` is the name of the group. which contains only the function `treball_ta <- function(m1, m3) {...}` which takes as input variables the names of the files `m1` and `m3` and returns a vector with ten components. These files contain a list with the `route`, `flight` and `point` tables resulting from filtering DDR2 data (*Filtering DDR2*). Within the function you will also need to read the `airports.dat` file with airport information.\n",
        "\n",
        "The function can only use the functions:\n",
        "\n",
        "`'´:=´' 'as.numeric' 'c' 'difftime' 'fread' 'hour' 'is.na' 'mean' 'merge' 'nrow' 'order' 'readRDS' 'return' 'rm' 'setnames' 'sum' 'unique'`\n",
        "\n",
        "The `treball_ta` function must return a vector of ten components, in the following order:\n",
        "\n",
        "For **rerouted flights**:\n",
        "\n",
        "*   Component 1: Planned destination airport with the most diverted flights\n",
        "*   Component 2: Country of origin airport with the most diverted flights\n",
        "*   Component 3: country with the most flights diverted from their airports of origin\n",
        "*   Component 4: Airline with the highest value of the quotient between diverted flights and total flights\n",
        "\n",
        "For **non-rerouted flights** (for component 7 we will also consider the set of diverted and non-rerouted flights):\n",
        "\n",
        "*   Component 5: origin airport of the flight with the largest distance deviation of flights with the same country of origin and destination\n",
        "*   Component 6: Airline with the longest average delay\n",
        "*   Component 7: origin airport with the smallest average distance deviation\n",
        "*   Component 8: Expected departure time with longest average delay\n",
        "*   Component 9: Arrival airport with the largest distance deviation to total planned distance ratio\n",
        "*   Component 10: Aircraft model of flights with the smallest average value of the quotient between the delay and the total planned time\n",
        "\n",
        "*Each component must have a unique value. In the event of a tie, the tie is broken by taking the first solution in alphabetical or numerical order.*\n",
        "\n",
        "*The process of evaluating the results must be done in such a way that all flights are taken into account, even if we do not have some information about them available.*"
      ]
    },
    {
      "cell_type": "markdown",
      "metadata": {
        "id": "a1zQ3k1eZlWv"
      },
      "source": [
        "# Code"
      ]
    },
    {
      "cell_type": "markdown",
      "metadata": {
        "id": "fFSzfXHToPJu"
      },
      "source": [
        "Configuration:"
      ]
    },
    {
      "cell_type": "code",
      "execution_count": null,
      "metadata": {
        "id": "faa86zYiYTHW",
        "colab": {
          "base_uri": "https://localhost:8080/"
        },
        "outputId": "1f70b775-8adf-48f8-fa62-b81f1c1ef494"
      },
      "outputs": [
        {
          "output_type": "stream",
          "name": "stderr",
          "text": [
            "Installing package into ‘/usr/local/lib/R/site-library’\n",
            "(as ‘lib’ is unspecified)\n",
            "\n"
          ]
        }
      ],
      "source": [
        "install.packages(\"data.table\")\n",
        "\n",
        "library(data.table)"
      ]
    },
    {
      "cell_type": "markdown",
      "metadata": {
        "id": "JYY25S48vCgF"
      },
      "source": [
        "Data download:"
      ]
    },
    {
      "cell_type": "code",
      "execution_count": null,
      "metadata": {
        "id": "s5WPWjDAvFpf"
      },
      "outputs": [],
      "source": [
        "download.file(\"https://www.dropbox.com/s/ynta4tz4gy9mk3n/20181208_20181212_m1.RDS?dl=1\", \"20181208_20181212_m1.RDS\")\n",
        "download.file(\"https://www.dropbox.com/s/0gzpt98no7sq6qu/20181208_20181212_m3.RDS?dl=1\", \"20181208_20181212_m3.RDS\")\n",
        "download.file(\"https://www.dropbox.com/s/a4s903mpeue4v6o/20170904_20170908_m1.RDS?dl=1\", \"20170904_20170908_m1.RDS\")\n",
        "download.file(\"https://www.dropbox.com/s/fdsvmc5wf2m544o/20170904_20170908_m3.RDS?dl=1\", \"20170904_20170908_m3.RDS\")\n",
        "\n",
        "download.file(\"https://raw.githubusercontent.com/jpatokal/openflights/master/data/airports.dat\", \"airports.dat\")"
      ]
    },
    {
      "cell_type": "markdown",
      "source": [
        "#Function `treball_ta.txt`"
      ],
      "metadata": {
        "id": "m3ty_PQGgyB9"
      }
    },
    {
      "cell_type": "code",
      "source": [
        "treball_ta <- function(m1, m3) {\n",
        "\n",
        "# Data reading and results initialisation:\n",
        "\n",
        "airports  <- fread(\"airports.dat\")\n",
        "inputM1   <- readRDS(m1)\n",
        "inputM3   <- readRDS(m3)\n",
        "results   <- c()\n",
        "\n",
        "# Component 1:\n",
        "\n",
        "Comp3_table_AUXroute  <- inputM3$route[order(fl_id, time1)][, .(fl_id, fl_des=id2)][, .SD[.N], by = \"fl_id\"]            # Extraction of flight id and flight destination for each flight\n",
        "rerouted_fl_id        <- Comp3_table_AUXroute[!inputM3$flight[,.(fl_id, fl_des)], on=.(fl_id, fl_des)]                  # Computation of rerouted flight ids\n",
        "rerouted_flight_tab   <- merge(inputM3$flight[, .(fl_id, fl_ori, fl_des, airl)],rerouted_fl_id[, .(fl_id)],by=\"fl_id\")  # Merging of flight data with the rerouted flight ids\n",
        "results[1]            <- rerouted_flight_tab[, .N, by=fl_des][order(-N,fl_des)][1,fl_des]                               # Computation of flight destination with the most rerouted flights\n",
        "\n",
        "# Component 2:\n",
        "\n",
        "airports_MAX <- rerouted_flight_tab[, .N, by=fl_ori][order(-N,fl_ori)][N == N[1],]                                      # Computation of flights origin with the most rerouted flights\n",
        "results[2] <- merge(airports[, .(V4, V6)], airports_MAX[, .(V6 = fl_ori)], by=\"V6\")[order(V4)][1, V4]                   # Computation of the corresponding country\n",
        "                                                                 \n",
        "# Component 3:\n",
        "\n",
        "origin_count    <- rerouted_flight_tab[, .N, by=fl_ori]                                                                 # Extraction of rerouted flight origins\n",
        "origin_country  <- merge(airports[, .(country=V4, fl_ori=V6)], origin_count, by=\"fl_ori\")[, .(country, N)]              # Merging of flight origins with the airports data\n",
        "sum_country     <- origin_country[, .(rerouted_flights=sum(N)),by=country]                                              # Computation of total rerouted flights per country\n",
        "results[3]      <- sum_country[order(-rerouted_flights,country)][1,country]                                             # Computation of the country with the most rerouted flights\n",
        "\n",
        "# Component 4:\n",
        "\n",
        "rerouted_airline    <- rerouted_flight_tab[, .N, by=airl]                                                               # Extraction of number of rerouted flights per airline\n",
        "total_airline       <- inputM3$flight[, .N, by=airl]                                                                    # Extraction of number of total flights per airline\n",
        "flights_by_airline  <- merge(rerouted_airline[, .(airl, rerouted_N=N)], total_airline[, .(airl, total_N=N)], by=\"airl\") # Merging of airlines with rerouted flights and the corresponding flight data\n",
        "quocient_airline    <- flights_by_airline[, .(quocient_N=rerouted_N/total_N), by=airl]                                  # Computation of the quocient\n",
        "results[4]          <- quocient_airline[order(-quocient_N,airl)][1,airl]                                                # Computation of the airline with the highest quocient\n",
        "\n",
        "# Component 5:\n",
        "\n",
        "non_rerouted_flight_tab   <- merge(inputM3$flight, Comp3_table_AUXroute, by=c(\"fl_id\",\"fl_des\"))                                                              # Merging of flight data, flight id and flight destination for non rerouted flights\n",
        "plan_dist_tab             <- inputM1$route[,.(plan_dist=sum(dist)),by=\"fl_id\"]                                                           # Extraction of planned distance by flight id\n",
        "real_dist_tab             <- inputM3$route[,.(real_dist=sum(dist)),by=\"fl_id\"]                                                           # Extraction of real distance by flight id\n",
        "fl_distances              <- merge(plan_dist_tab, real_dist_tab, by=\"fl_id\")                                                                                  # Merging of flight distances\n",
        "fl_distances              <- fl_distances[,diff_distance := real_dist-plan_dist]                                                                              # Computation of distance difference\n",
        "fl_distances              <- fl_distances[diff_distance<0, diff_distance := 0]                                                                                # Correction of negative distances to a zero value\n",
        "non_rerouted_fl_distance  <- merge(fl_distances, non_rerouted_flight_tab, by=\"fl_id\")                                                                         # Merging of flight distances with the non rerouted flights data\n",
        "country_oriTab            <- merge(inputM3$flight[, .(fl_id, fl_ori, fl_des)], airports[, .(country_ori=V4, V6)], by.x=\"fl_ori\", by.y=\"V6\")                   # Merging of flight data with the countries of the origin airports\n",
        "national_flights          <- merge(country_oriTab, airports[, .(country_des=V4, V6)], by.x=\"fl_des\", by.y=\"V6\")[country_ori == country_des, .(fl_id, fl_ori)] # Filtering by only national flights regarding origin and destination\n",
        "distance_flights          <- merge(non_rerouted_fl_distance[, .(fl_id, diff_distance)], national_flights, by=\"fl_id\")                                         # Computation of distance difference for national flights\n",
        "results[5]                <- distance_flights[order(-diff_distance,fl_ori)][1,fl_ori]                                                                         # Computation of flight origin with the highest distance difference\n",
        "\n",
        "# Component 6:\n",
        "\n",
        "Comp1_table_AUXhour       <- merge(inputM1$flight[, .(fl_id, fl_des)], inputM1$route[, .(fl_id, fl_des=id2, time2)], by=c(\"fl_id\",\"fl_des\"))                  # Merging of planned flight data with the planned destination arrival time\n",
        "Comp3_table_AUXhour       <- merge(Comp3_table_AUXroute, inputM3$route[, .(fl_id, fl_des=id2, time2)], by=c(\"fl_id\",\"fl_des\"))                                # Merging of flight data with the destination arrival time\n",
        "Comp1_table               <- merge(Comp1_table_AUXhour[, .(fl_id, fl_des, time2)], Comp3_table_AUXhour[, .(fl_id, fl_des, time2)], by=\"fl_id\")                # Merging of planned and real flight destination times\n",
        "nonRerouted_flights_tab   <- Comp1_table[fl_des.x == fl_des.y,][, .(fl_id, plan_arrival=time2.x, real_time=time2.y)]                                          # Filtering by only non rerouted flights\n",
        "nonRerouted_flights_airl  <- merge(nonRerouted_flights_tab, inputM3$flight[, .(fl_id, airl)], by=\"fl_id\")                                                     # Merging of non rerouted flights data with airlines data\n",
        "delay_tab                 <- nonRerouted_flights_airl[, delay:=difftime(real_time,plan_arrival,\"sec\")][, .(fl_id, airl, delay)]                               # Computation of delays\n",
        "delay_tab                 <- delay_tab[delay<0, delay:=0]                                                                                                     # Correction of negative times to a zero value\n",
        "meanDelay_tab             <- delay_tab[, .(mean_delay=mean(delay)), by=airl]                                                                                  # Computation of mean delays by airlines\n",
        "results[6]                <- meanDelay_tab[order(-mean_delay,airl)][1,airl]                                                                                   # Computation of airline with the highest mean delay\n",
        "\n",
        "# Component 7:\n",
        "\n",
        "origin_airport  <- merge(fl_distances, inputM3$flight[, .(fl_id, fl_ori)], by=\"fl_id\")                                                                        # Merging of flight distances with flight origins data\n",
        "meanDist_tab    <- origin_airport[, .(mean_dist=mean(diff_distance)), by=fl_ori]                                                                              # Computation of mean distance difference in flights with same flight origin\n",
        "results[7]      <- meanDist_tab[order(mean_dist,fl_ori)][1,fl_ori]                                                                                            # Computation of the origin with the minimum mean distance difference\n",
        "\n",
        "# Component 8:\n",
        "\n",
        "Comp1_table_AUXdeparture  <- inputM1$route[, .(fl_id, departure_time=time1)][order(fl_id, departure_time)][, .SD[1], by = \"fl_id\"]                            # Extraction of planned departure times for each flight id\n",
        "nonRerouted_merge         <- merge(nonRerouted_flights_tab, Comp1_table_AUXdeparture[, .(fl_id, plan_departure=hour(departure_time))], by=\"fl_id\")            # Merging of non rerouted flight data with planned departure times\n",
        "delay_tab                 <- nonRerouted_merge[, delay:=difftime(real_time,plan_arrival,\"sec\")][, .(fl_id, plan_departure, delay)]                            # Computation of delays\n",
        "delay_tab                 <- delay_tab[delay<0, delay:=0]                                                                                                     # Correction of negative times to a zero value\n",
        "meanDelay_tab             <- delay_tab[, .(mean_delay=mean(delay)), by=plan_departure]                                                                        # Computation of mean delays by planned departure times\n",
        "results[8]                <- meanDelay_tab[order(-mean_delay,plan_departure)][1,plan_departure]                                                               # Computation of planned departure times with the highest mean delay\n",
        "\n",
        "# Component 9:\n",
        "\n",
        "quocient_Table  <- non_rerouted_fl_distance[, quocient:=diff_distance/plan_dist][, .(fl_des, quocient)]                                                       # Computation of quocient\n",
        "results[9]      <- quocient_Table[order(-quocient, fl_des)][1,fl_des]                                                                                         # Computation of the destination airport with the highest quocient\n",
        "\n",
        "# Component 10:\n",
        "\n",
        "realTime_table            <- merge(Comp1_table_AUXdeparture, nonRerouted_flights_tab, by=\"fl_id\")                                                                                                     # Merging of non rerouted flight data with planned departure times\n",
        "quocient_realTime_table   <- realTime_table[, `:=`(delay=difftime(real_time,plan_arrival,units=\"secs\"), totalTime=difftime(plan_arrival,departure_time,units=\"secs\"))][, .(fl_id, delay, totalTime)]  # Computation of quocient table with delay and total flight time \n",
        "quocient_Table            <- quocient_realTime_table[delay<0, delay:=0]                                                                                                                               # Correction of negative times to a zero value\n",
        "result_Table              <- quocient_Table[, quocient:=as.numeric(delay)/as.numeric(totalTime)]                                                                                                      # Computation of quocient between delay and total flight time \n",
        "ac_result_table           <- merge(result_Table, inputM3$flight[, .(fl_id, ac_type)], by=\"fl_id\")                                                                                                     # Merging of quocient with aircraft type\n",
        "meanTime_tab              <- ac_result_table[, .(mean_time=mean(quocient)), by=ac_type]                                                                                                               # Computation of mean quocients by aircraft types\n",
        "results[10]               <- meanTime_tab[order(mean_time,ac_type)][1,ac_type]                                                                                                                        # Computation of aircraft type with minimum mean quocient value\n",
        "\n",
        "return(results)\n",
        "}"
      ],
      "metadata": {
        "id": "_B8FEohljkpf"
      },
      "execution_count": null,
      "outputs": []
    },
    {
      "cell_type": "markdown",
      "source": [
        "# ***Verification of the results:***"
      ],
      "metadata": {
        "id": "jKi910TLe94T"
      }
    },
    {
      "cell_type": "markdown",
      "source": [
        "#Inputs"
      ],
      "metadata": {
        "id": "Q0ACowAQg27l"
      }
    },
    {
      "cell_type": "code",
      "source": [
        "m1 = \"20181208_20181212_m1.RDS\"\n",
        "m3 = \"20181208_20181212_m3.RDS\""
      ],
      "metadata": {
        "id": "vnXqaa8kyoFb"
      },
      "execution_count": null,
      "outputs": []
    },
    {
      "cell_type": "markdown",
      "source": [
        "# Execution"
      ],
      "metadata": {
        "id": "nkK2pOJAQ9h2"
      }
    },
    {
      "cell_type": "code",
      "execution_count": null,
      "metadata": {
        "id": "3lOcpSumObcN",
        "colab": {
          "base_uri": "https://localhost:8080/",
          "height": 34
        },
        "outputId": "b2f25bcd-33a4-47da-ace7-f364e7a9b7c3"
      },
      "outputs": [
        {
          "output_type": "display_data",
          "data": {
            "text/html": [
              "<style>\n",
              ".list-inline {list-style: none; margin:0; padding: 0}\n",
              ".list-inline>li {display: inline-block}\n",
              ".list-inline>li:not(:last-child)::after {content: \"\\00b7\"; padding: 0 .5ex}\n",
              "</style>\n",
              "<ol class=list-inline><li>'UKKK'</li><li>'Austria'</li><li>'Turkey'</li><li>'PEV'</li><li>'LMML'</li><li>'AFG'</li><li>'BGSF'</li><li>'2'</li><li>'LMML'</li><li>'B773'</li></ol>\n"
            ],
            "text/markdown": "1. 'UKKK'\n2. 'Austria'\n3. 'Turkey'\n4. 'PEV'\n5. 'LMML'\n6. 'AFG'\n7. 'BGSF'\n8. '2'\n9. 'LMML'\n10. 'B773'\n\n\n",
            "text/latex": "\\begin{enumerate*}\n\\item 'UKKK'\n\\item 'Austria'\n\\item 'Turkey'\n\\item 'PEV'\n\\item 'LMML'\n\\item 'AFG'\n\\item 'BGSF'\n\\item '2'\n\\item 'LMML'\n\\item 'B773'\n\\end{enumerate*}\n",
            "text/plain": [
              " [1] \"UKKK\"    \"Austria\" \"Turkey\"  \"PEV\"     \"LMML\"    \"AFG\"     \"BGSF\"   \n",
              " [8] \"2\"       \"LMML\"    \"B773\"   "
            ]
          },
          "metadata": {}
        }
      ],
      "source": [
        "t1 <- Sys.time()\n",
        "res1 <- treball_ta(m1 = \"20181208_20181212_m1.RDS\", m3 = \"20181208_20181212_m3.RDS\")\n",
        "t2 <- Sys.time()\n",
        "\n",
        "res1 # to_show"
      ]
    },
    {
      "cell_type": "markdown",
      "metadata": {
        "id": "9gkcdXYKbitX"
      },
      "source": [
        "Verification of the correct result: `'UKKK''Austria''Turkey''PEV''LMML''AFG''BGSF''2''LMML''B773'`"
      ]
    },
    {
      "cell_type": "code",
      "execution_count": null,
      "metadata": {
        "id": "pYsQJZ_1qd3K",
        "colab": {
          "base_uri": "https://localhost:8080/",
          "height": 34
        },
        "outputId": "e0b8f01d-dbf1-4c0f-b603-3dbbadedb9f8"
      },
      "outputs": [
        {
          "output_type": "display_data",
          "data": {
            "text/html": [
              "<style>\n",
              ".list-inline {list-style: none; margin:0; padding: 0}\n",
              ".list-inline>li {display: inline-block}\n",
              ".list-inline>li:not(:last-child)::after {content: \"\\00b7\"; padding: 0 .5ex}\n",
              "</style>\n",
              "<ol class=list-inline><li>'LPMA'</li><li>'Portugal'</li><li>'France'</li><li>'AZU'</li><li>'LPPR'</li><li>'SAW'</li><li>'BGBW'</li><li>'0'</li><li>'LGKZ'</li><li>'AN12'</li></ol>\n"
            ],
            "text/markdown": "1. 'LPMA'\n2. 'Portugal'\n3. 'France'\n4. 'AZU'\n5. 'LPPR'\n6. 'SAW'\n7. 'BGBW'\n8. '0'\n9. 'LGKZ'\n10. 'AN12'\n\n\n",
            "text/latex": "\\begin{enumerate*}\n\\item 'LPMA'\n\\item 'Portugal'\n\\item 'France'\n\\item 'AZU'\n\\item 'LPPR'\n\\item 'SAW'\n\\item 'BGBW'\n\\item '0'\n\\item 'LGKZ'\n\\item 'AN12'\n\\end{enumerate*}\n",
            "text/plain": [
              " [1] \"LPMA\"     \"Portugal\" \"France\"   \"AZU\"      \"LPPR\"     \"SAW\"     \n",
              " [7] \"BGBW\"     \"0\"        \"LGKZ\"     \"AN12\"    "
            ]
          },
          "metadata": {}
        }
      ],
      "source": [
        "t3 <- Sys.time()\n",
        "res2 <- treball_ta(m1 = \"20170904_20170908_m1.RDS\", m3 = \"20170904_20170908_m3.RDS\")\n",
        "t4 <- Sys.time()\n",
        "\n",
        "res2 # to_show"
      ]
    },
    {
      "cell_type": "markdown",
      "metadata": {
        "id": "1tz2VxVxuxEO"
      },
      "source": [
        "Verification of the correct result: `'LPMA''Portugal''France''AZU''LPPR''SAW''BGBW''0''LGKZ''AN12'`\n"
      ]
    },
    {
      "cell_type": "markdown",
      "metadata": {
        "id": "3CnrSxjOztGc"
      },
      "source": [
        "Verification that the result is a vector (shall be `TRUE`):"
      ]
    },
    {
      "cell_type": "code",
      "execution_count": null,
      "metadata": {
        "id": "sR0HVtUWPE4C",
        "colab": {
          "base_uri": "https://localhost:8080/",
          "height": 34
        },
        "outputId": "911c8ce4-d067-4b13-8b86-1cd7bed30b82"
      },
      "outputs": [
        {
          "output_type": "display_data",
          "data": {
            "text/html": [
              "TRUE"
            ],
            "text/markdown": "TRUE",
            "text/latex": "TRUE",
            "text/plain": [
              "[1] TRUE"
            ]
          },
          "metadata": {}
        }
      ],
      "source": [
        "is.vector(res1)"
      ]
    },
    {
      "cell_type": "code",
      "execution_count": null,
      "metadata": {
        "id": "XmoeXYBdqt8J",
        "colab": {
          "base_uri": "https://localhost:8080/",
          "height": 34
        },
        "outputId": "be0c2d59-876a-4880-d99f-6424a0d8c50c"
      },
      "outputs": [
        {
          "output_type": "display_data",
          "data": {
            "text/html": [
              "TRUE"
            ],
            "text/markdown": "TRUE",
            "text/latex": "TRUE",
            "text/plain": [
              "[1] TRUE"
            ]
          },
          "metadata": {}
        }
      ],
      "source": [
        "is.vector(res2)"
      ]
    },
    {
      "cell_type": "markdown",
      "metadata": {
        "id": "L4X6ehI0zNtR"
      },
      "source": [
        "Verification of the execution time (shall be less than 25 seconds):"
      ]
    },
    {
      "cell_type": "code",
      "execution_count": null,
      "metadata": {
        "id": "hCSJx5fGPNjW",
        "colab": {
          "base_uri": "https://localhost:8080/",
          "height": 34
        },
        "outputId": "b4ec482a-ffb1-45d7-a709-d76860aa6bb8"
      },
      "outputs": [
        {
          "output_type": "display_data",
          "data": {
            "text/plain": [
              "Time difference of 6.452518 secs"
            ]
          },
          "metadata": {}
        }
      ],
      "source": [
        "t2 - t1 # res1"
      ]
    },
    {
      "cell_type": "code",
      "execution_count": null,
      "metadata": {
        "id": "jtgS0xj7qxD8",
        "colab": {
          "base_uri": "https://localhost:8080/",
          "height": 34
        },
        "outputId": "b0e9b753-333c-4698-9b03-1c42696fa047"
      },
      "outputs": [
        {
          "output_type": "display_data",
          "data": {
            "text/plain": [
              "Time difference of 7.367728 secs"
            ]
          },
          "metadata": {}
        }
      ],
      "source": [
        "t4 - t3 # res2"
      ]
    }
  ],
  "metadata": {
    "colab": {
      "collapsed_sections": [
        "jKi910TLe94T"
      ],
      "provenance": [],
      "include_colab_link": true
    },
    "kernelspec": {
      "display_name": "R",
      "name": "ir"
    }
  },
  "nbformat": 4,
  "nbformat_minor": 0
}